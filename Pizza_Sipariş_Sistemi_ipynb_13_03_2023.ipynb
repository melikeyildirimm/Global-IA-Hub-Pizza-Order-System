{
  "nbformat": 4,
  "nbformat_minor": 0,
  "metadata": {
    "colab": {
      "provenance": [],
      "authorship_tag": "ABX9TyNKkN7s0ZvIPnkQWnyZXOiY",
      "include_colab_link": true
    },
    "kernelspec": {
      "name": "python3",
      "display_name": "Python 3"
    },
    "language_info": {
      "name": "python"
    }
  },
  "cells": [
    {
      "cell_type": "markdown",
      "metadata": {
        "id": "view-in-github",
        "colab_type": "text"
      },
      "source": [
        "<a href=\"https://colab.research.google.com/github/melikeyildirimm/Global-IA-Hub-Pizza-Order-System/blob/main/Pizza_Sipari%C5%9F_Sistemi_ipynb_13_03_2023.ipynb\" target=\"_parent\"><img src=\"https://colab.research.google.com/assets/colab-badge.svg\" alt=\"Open In Colab\"/></a>"
      ]
    },
    {
      "cell_type": "code",
      "execution_count": 62,
      "metadata": {
        "id": "dhiv43spN7A5"
      },
      "outputs": [],
      "source": [
        "#Gerekli Kitaplıkları İçe Aktarma\n",
        "import csv\n",
        "import datetime"
      ]
    },
    {
      "cell_type": "code",
      "source": [
        "#“Menu.txt” dosyasını oluştur\n",
        "with open(\"Menu.txt\", \"w\") as menu:\n",
        "    menu.write(\"\"\"-Lütfen Pizzanızı Seçiniz:\n",
        "1: Klasik Pizza - 70₺\n",
        "2: Margarita - 50₺\n",
        "3: Türk Pizza -100₺\n",
        "4: Sade Pizza - 80₺\n",
        "\n",
        "-Ekstralar:\n",
        "5: Zeytin - 3₺\n",
        "6: Mantar - 7₺\n",
        "7: Pastirma - 5₺\n",
        "8: Misir - 6₺\n",
        "\n",
        "Seçiminiz İçin Teşekkür Ederiz!\\n\"\"\")"
      ],
      "metadata": {
        "id": "rgLbiYf2p2Ye"
      },
      "execution_count": 63,
      "outputs": []
    },
    {
      "cell_type": "code",
      "source": [
        "#Üst sınıf oluştur “pizza”\n",
        "#pizza açıklaması ve fiyat için\n",
        "\n",
        "class Pizza:\n",
        "    def get_description(self): \n",
        "        return self.__class__.__name__\n",
        "\n",
        "    def get_cost(self): \n",
        "        return self.__class__.cost"
      ],
      "metadata": {
        "id": "pBVtPE64qpnj"
      },
      "execution_count": 64,
      "outputs": []
    },
    {
      "cell_type": "code",
      "source": [
        "#Alt sınıf oluştur “pizza” - özellikleri yaz\n",
        "\n",
        "class KlasikPizza(Pizza):\n",
        "  cost=70\n",
        "  def __init__(self):\n",
        "    self.description = \"İçindekiler: Sucuk, Kasar, Mantar, Zeytin\"\n",
        "    print(self.description)\n",
        "\n",
        "class Margarita(Pizza):\n",
        "    cost=50\n",
        "    def __init__(self): \n",
        "      self.description = \"İçindekiler: Mozarella, Fesleğen, Domates\"\n",
        "      print(self.description)\n",
        "\n",
        "class TürkPizza(Pizza):\n",
        "    cost=100 \n",
        "    def __init__(self):\n",
        "      self.description = \"İçindekiler: Pastırma, Kapya Biber, Kasar\"\n",
        "      print(self.description)\n",
        "\n",
        "class SadePizza(Pizza):\n",
        "    cost=80\n",
        "    def __init__(self):\n",
        "      self.description = \"İçindekiler: Kasar, Mantar, Zeytin\"\n",
        "      print(self.description)"
      ],
      "metadata": {
        "id": "xA-1AgjOrWm_"
      },
      "execution_count": 65,
      "outputs": []
    },
    {
      "cell_type": "code",
      "source": [
        "#Üst sınıf oluştur “Decorator” -Decorator, burada tüm sos sınıflarının süper sınıfı olarak adlandırılır.\n",
        "\n",
        "class Decorator(Pizza):\n",
        "  def __init__(self, topping):\n",
        "    self.component=topping\n",
        "  def get_cost(self):\n",
        "    return self.component.get_cost() + \\\n",
        "    Pizza.get_cost(self)\n",
        "  def get_description(self):\n",
        "    return self.component.get_description() + \\\n",
        "    ' ' + Pizza.get_description(self)"
      ],
      "metadata": {
        "id": "EiUGBtEGxJO2"
      },
      "execution_count": 66,
      "outputs": []
    },
    {
      "cell_type": "code",
      "source": [
        "#Alt sınıflar için decorator\n",
        "\n",
        "class Zeytin(Decorator):\n",
        "  cost=3\n",
        "  def __init__(self,topping):\n",
        "    Decorator.__init__(self,topping)\n",
        "    \n",
        "class Mantar(Decorator):\n",
        "  cost=7\n",
        "  def __init__(self,topping):\n",
        "    Decorator.__init__(self,topping)      \n",
        "\n",
        "class Pastirma(Decorator):\n",
        "  cost=5\n",
        "  def __init__(self,topping):\n",
        "    Decorator.__init__(self,topping)\n",
        "  \n",
        "class Misir(Decorator):\n",
        "  cost=6\n",
        "  def __init_(self,topping):\n",
        "    Decorator.__init__(self,topping)\n",
        "\n",
        "\n"
      ],
      "metadata": {
        "id": "UsW7J9UVuK_E"
      },
      "execution_count": 67,
      "outputs": []
    },
    {
      "cell_type": "code",
      "source": [
        "#main fonksiyonu\n",
        "\n",
        "def main():\n",
        "  with open (\"menu.txt\") as cust_menu:\n",
        "    for i in cust_menu:\n",
        "      print(i, end=\"\")\n",
        "\n",
        "class_dict = {1: KlasikPizza, \n",
        "              2: Margarita, \n",
        "              3: TürkPizza, \n",
        "              4: SadePizza, \n",
        "              5: Zeytin, \n",
        "              6: Mantar, \n",
        "              7: Pastirma, \n",
        "              8: Misir}"
      ],
      "metadata": {
        "id": "IO4vTl5QuLhh"
      },
      "execution_count": 68,
      "outputs": []
    },
    {
      "cell_type": "code",
      "source": [
        "#Sipariş bilgilerinin alınması\n",
        "\n",
        "code = input(\"Lütfen pizzanızı seçiniz: \")\n",
        "if code not in [\"1\",\"2\",\"3\",\"4\"]:\n",
        "  code = input(\"Yanlış tuşlama, lütfen tekrar seçiniz: \")\n",
        "\n",
        "order = class_dict[int(code)]()\n",
        "\n",
        "while code != \" \":\n",
        "  code = input(\"İsteğinize göre ek malzeme seçiniz (Siparişinizi onaylamak için ' ' tuşuna basınız): \")\n",
        "  if code in [\"5\",\"6\",\"7\",\"8\"]:\n",
        "    order = class_dict[int(code)](order)\n",
        "\n",
        "\n",
        "print(\"\\n\"+order.get_description().strip() +\n",
        "          \"; ₺ \" + str(order.get_cost()))\n",
        "print(\"\\n\")"
      ],
      "metadata": {
        "id": "7QwaN6C01FKy",
        "colab": {
          "base_uri": "https://localhost:8080/"
        },
        "outputId": "ae2bcd56-2f22-4a90-8cd5-f9dbd86aea3a"
      },
      "execution_count": 71,
      "outputs": [
        {
          "output_type": "stream",
          "name": "stdout",
          "text": [
            "Lütfen pizzanızı seçiniz: 3\n",
            "İçindekiler: Pastırma, Kapya Biber, Kasar\n",
            "İsteğinize göre ek malzeme seçiniz (Siparişinizi onaylamak için ' ' tuşuna basınız): 8\n",
            "İsteğinize göre ek malzeme seçiniz (Siparişinizi onaylamak için ' ' tuşuna basınız): 7\n",
            "İsteğinize göre ek malzeme seçiniz (Siparişinizi onaylamak için ' ' tuşuna basınız):  \n",
            "\n",
            "TürkPizza Misir Pastirma; ₺ 111\n",
            "\n",
            "\n"
          ]
        }
      ]
    },
    {
      "cell_type": "code",
      "source": [
        "#Müşteri ve ödeme bilgilerinin alınması\n",
        "\n",
        "print(\"----------Ödeme Bilgileri----------\\n\")\n",
        "name = input(\"İsminiz: \")\n",
        "TC = input(\"TC Kimlik Numaranız: \")\n",
        "creditcard_no = input(\"Kredi Kartı Numaranızı Giriniz: \")\n",
        "password = input(\"Kredi Kartı Şifrenizi Giriniz: \")\n",
        "time = datetime.datetime.now()\n",
        "\n",
        "with open('Orders_Database.csv', 'a') as orders:\n",
        "  orders = csv.writer(orders, delimiter=',')\n",
        "  orders.writerow([name, TC, creditcard_no, password, order.get_description(), time])\n",
        "  print(\"Ödeme tamamlandı, siparişiniz onaylandı.\")"
      ],
      "metadata": {
        "id": "wv0NUx89TjKo",
        "colab": {
          "base_uri": "https://localhost:8080/"
        },
        "outputId": "6741bdb7-ede5-476a-8df5-6e4ccd5cab80"
      },
      "execution_count": 72,
      "outputs": [
        {
          "output_type": "stream",
          "name": "stdout",
          "text": [
            "----------Ödeme Bilgileri----------\n",
            "\n",
            "İsminiz: Enes\n",
            "TC Kimlik Numaranız: 15478632485\n",
            "Kredi Kartı Numaranızı Giriniz: 5123697514863254\n",
            "Kredi Kartı Şifrenizi Giriniz: 5347\n",
            "Ödeme tamamlandı, siparişiniz onaylandı.\n"
          ]
        }
      ]
    }
  ]
}